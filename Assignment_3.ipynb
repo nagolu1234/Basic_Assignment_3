{
  "nbformat": 4,
  "nbformat_minor": 0,
  "metadata": {
    "colab": {
      "name": "Assignment_3.ipynb",
      "provenance": [],
      "collapsed_sections": []
    },
    "kernelspec": {
      "name": "python3",
      "display_name": "Python 3"
    },
    "language_info": {
      "name": "python"
    }
  },
  "cells": [
    {
      "cell_type": "markdown",
      "metadata": {
        "id": "fmnIk-OYS3VG"
      },
      "source": [
        "1. Why are functions advantageous to have in your programs?"
      ]
    },
    {
      "cell_type": "markdown",
      "metadata": {
        "id": "lV7a75nDS-DY"
      },
      "source": [
        "The advantages of using functions are:\n",
        "\n",
        "Avoid repetition of codes.<br>\n",
        "Increases program readability.<br>\n",
        "Divide a complex problem into simpler ones.<br>\n",
        "Reduces chances of error.<br>\n",
        "Modifying a program becomes easier by using function.<br>"
      ]
    },
    {
      "cell_type": "markdown",
      "metadata": {
        "id": "ONWthJmmUSru"
      },
      "source": [
        "2. When does the code in a function run: when it's specified or when it's called?"
      ]
    },
    {
      "cell_type": "markdown",
      "metadata": {
        "id": "wLFFn2fJUfp5"
      },
      "source": [
        "The code in the function executes **when it is called** "
      ]
    },
    {
      "cell_type": "markdown",
      "metadata": {
        "id": "PJa-OWWjVCRn"
      },
      "source": [
        "3. What statement creates a function?"
      ]
    },
    {
      "cell_type": "markdown",
      "metadata": {
        "id": "KwgL3ngEVH_v"
      },
      "source": [
        "**def** statement defines the function "
      ]
    },
    {
      "cell_type": "markdown",
      "metadata": {
        "id": "kOJNyMgnVaL3"
      },
      "source": [
        "4. What is the difference between a function and a function call?"
      ]
    },
    {
      "cell_type": "markdown",
      "metadata": {
        "id": "U5kpvMSqViRT"
      },
      "source": [
        "A function is an procedure to achieve some particular task, it defines with def statement. Where as function call is direct the function to do that task."
      ]
    },
    {
      "cell_type": "markdown",
      "metadata": {
        "id": "vHThzWZ9XoBi"
      },
      "source": [
        "5. How many global scopes are there in a Python program? How many local scopes?"
      ]
    },
    {
      "cell_type": "markdown",
      "metadata": {
        "id": "lBV4WV00X1A1"
      },
      "source": [
        "when ever function is called, it will create one local and one global variable."
      ]
    },
    {
      "cell_type": "markdown",
      "metadata": {
        "id": "H8ShYSuNY_KW"
      },
      "source": [
        "6. What happens to variables in a local scope when the function call returns?"
      ]
    },
    {
      "cell_type": "markdown",
      "metadata": {
        "id": "Qc5xaTlrZHAf"
      },
      "source": [
        "When an function returns, the local scope is destroyed and all the variables in it are forgotten.\n"
      ]
    },
    {
      "cell_type": "markdown",
      "metadata": {
        "id": "UzSDocSNknju"
      },
      "source": [
        "7. What is the concept of a return value? Is it possible to have a return value in an expression?"
      ]
    },
    {
      "cell_type": "markdown",
      "metadata": {
        "id": "tKb71HN7ksxN"
      },
      "source": [
        "A return value is the result when task is completed after calling done. Return value can be an part of expression.\n"
      ]
    },
    {
      "cell_type": "markdown",
      "metadata": {
        "id": "jPtBj05dnYQl"
      },
      "source": [
        "8. If a function does not have a return statement, what is the return value of a call to that function?"
      ]
    },
    {
      "cell_type": "markdown",
      "metadata": {
        "id": "FBi2_q7PnfW4"
      },
      "source": [
        "The retun value will be **none **"
      ]
    },
    {
      "cell_type": "markdown",
      "metadata": {
        "id": "Lmdu2PAmnrj2"
      },
      "source": [
        "9. How do you make a function variable refer to the global variable?"
      ]
    },
    {
      "cell_type": "markdown",
      "metadata": {
        "id": "CDpTeyh8n_e_"
      },
      "source": [
        "With the use of **Global keyword**,we can define which variables are global"
      ]
    },
    {
      "cell_type": "markdown",
      "metadata": {
        "id": "v1dfm-qVpMsa"
      },
      "source": [
        "10. What is the data type of None?"
      ]
    },
    {
      "cell_type": "markdown",
      "metadata": {
        "id": "vROknfBNpSgV"
      },
      "source": [
        "**None type** is the data type of none"
      ]
    },
    {
      "cell_type": "markdown",
      "metadata": {
        "id": "o0iBNR7ApesT"
      },
      "source": [
        "11. What does the sentence import areallyourpetsnamederic do?"
      ]
    },
    {
      "cell_type": "markdown",
      "metadata": {
        "id": "ZvjLfX1upkzj"
      },
      "source": [
        "The **import statement** imports a module named as areallyourpetsnamederic"
      ]
    },
    {
      "cell_type": "markdown",
      "metadata": {
        "id": "XCD9ZSUiqD1-"
      },
      "source": [
        "12. If you had a bacon() feature in a spam module, what would you call it after importing spam?\n"
      ]
    },
    {
      "cell_type": "markdown",
      "metadata": {
        "id": "UQY2utnNqM4I"
      },
      "source": [
        "**spam.bacon()**"
      ]
    },
    {
      "cell_type": "markdown",
      "metadata": {
        "id": "BKFWlFIQqRX6"
      },
      "source": [
        "13. What can you do to save a programme from crashing if it encounters an error?"
      ]
    },
    {
      "cell_type": "markdown",
      "metadata": {
        "id": "-RtmNzxUqYoO"
      },
      "source": [
        "Place the line of code that might cause an error in a try clause."
      ]
    },
    {
      "cell_type": "markdown",
      "metadata": {
        "id": "9a5X8WAnqy4Z"
      },
      "source": [
        "14. What is the purpose of the try clause? What is the purpose of the except clause?"
      ]
    },
    {
      "cell_type": "markdown",
      "metadata": {
        "id": "axEfvzSJq1yJ"
      },
      "source": [
        "The code that could potentially cause an error goes in the try clause.\n",
        "\n",
        "The code that executes if an error happens goes in the except clause."
      ]
    }
  ]
}